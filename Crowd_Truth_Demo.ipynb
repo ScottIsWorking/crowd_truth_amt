{
 "cells": [
  {
   "cell_type": "markdown",
   "metadata": {},
   "source": [
    "# Audit of Turk Data Using Crowd Truth"
   ]
  },
  {
   "cell_type": "markdown",
   "metadata": {},
   "source": [
    "### Goals:\n",
    "1. Identify workers who are consistently not agreeing with others\n",
    "2. Identify themes which never get used consistently\n",
    "3. Identify items (responses) that never got clear labels"
   ]
  },
  {
   "cell_type": "code",
   "execution_count": 1,
   "metadata": {},
   "outputs": [],
   "source": [
    "from crowd_truth import CrowdTruth"
   ]
  },
  {
   "cell_type": "markdown",
   "metadata": {},
   "source": [
    "### Using the Crowd Truth module\n",
    "At the core of this module is the `CrowdTruth` class. We can instantiate this class with a `.csv` file from a Turk job to start using\n",
    "some general Crowd Truth metrics."
   ]
  },
  {
   "cell_type": "code",
   "execution_count": 2,
   "metadata": {},
   "outputs": [],
   "source": [
    "path_to_turk_csv = '../data/turk_test/analyst_institute message_testing afraid_ad_saying_in_your_words OID_1.csv'\n",
    "ct = CrowdTruth(path_to_turk_csv)"
   ]
  },
  {
   "cell_type": "markdown",
   "metadata": {},
   "source": [
    "## `CrowdTruth.df`\n",
    "This is the original data reformatted to include the following:\n",
    "* `WorkerId` : The unique identifier for each worker\n",
    "* `HITId`: The unique identifier for each response being annotated\n",
    "* `WorkTimeInSeconds`: The amount of time it took a particular worker to complete a particular HIT (i.e. task)\n",
    "* The available labels"
   ]
  },
  {
   "cell_type": "code",
   "execution_count": 3,
   "metadata": {},
   "outputs": [
    {
     "data": {
      "text/html": [
       "<div>\n",
       "<style scoped>\n",
       "    .dataframe tbody tr th:only-of-type {\n",
       "        vertical-align: middle;\n",
       "    }\n",
       "\n",
       "    .dataframe tbody tr th {\n",
       "        vertical-align: top;\n",
       "    }\n",
       "\n",
       "    .dataframe thead th {\n",
       "        text-align: right;\n",
       "    }\n",
       "</style>\n",
       "<table border=\"1\" class=\"dataframe\">\n",
       "  <thead>\n",
       "    <tr style=\"text-align: right;\">\n",
       "      <th></th>\n",
       "      <th>WorkerId</th>\n",
       "      <th>HITId</th>\n",
       "      <th>WorkTimeInSeconds</th>\n",
       "      <th>trump_bad</th>\n",
       "      <th>NoMeaning</th>\n",
       "      <th>Other</th>\n",
       "      <th>trump_untrustworthy</th>\n",
       "      <th>support_trump</th>\n",
       "      <th>don't_vote_trump</th>\n",
       "      <th>trump_afraid</th>\n",
       "      <th>trump_irresponsible</th>\n",
       "      <th>trump_weak</th>\n",
       "    </tr>\n",
       "  </thead>\n",
       "  <tbody>\n",
       "    <tr>\n",
       "      <th>0</th>\n",
       "      <td>ATR6RB1RULOC0</td>\n",
       "      <td>3LN50BUKPWPH48Z0Q2PHWX60VC7LP8</td>\n",
       "      <td>4</td>\n",
       "      <td>1.0</td>\n",
       "      <td>0.0</td>\n",
       "      <td>0.0</td>\n",
       "      <td>0.0</td>\n",
       "      <td>0.0</td>\n",
       "      <td>0.0</td>\n",
       "      <td>0.0</td>\n",
       "      <td>0.0</td>\n",
       "      <td>0.0</td>\n",
       "    </tr>\n",
       "    <tr>\n",
       "      <th>1</th>\n",
       "      <td>AEF601SQFOSBL</td>\n",
       "      <td>3LN50BUKPWPH48Z0Q2PHWX60VC7LP8</td>\n",
       "      <td>18</td>\n",
       "      <td>1.0</td>\n",
       "      <td>0.0</td>\n",
       "      <td>0.0</td>\n",
       "      <td>0.0</td>\n",
       "      <td>0.0</td>\n",
       "      <td>0.0</td>\n",
       "      <td>0.0</td>\n",
       "      <td>0.0</td>\n",
       "      <td>0.0</td>\n",
       "    </tr>\n",
       "    <tr>\n",
       "      <th>2</th>\n",
       "      <td>A2HM35CWB7IIFM</td>\n",
       "      <td>3LN50BUKPWPH48Z0Q2PHWX60VC7LP8</td>\n",
       "      <td>5</td>\n",
       "      <td>1.0</td>\n",
       "      <td>0.0</td>\n",
       "      <td>0.0</td>\n",
       "      <td>0.0</td>\n",
       "      <td>0.0</td>\n",
       "      <td>0.0</td>\n",
       "      <td>0.0</td>\n",
       "      <td>0.0</td>\n",
       "      <td>0.0</td>\n",
       "    </tr>\n",
       "    <tr>\n",
       "      <th>3</th>\n",
       "      <td>A1IHI23KH87K5W</td>\n",
       "      <td>3MDWE879UIGKZCXHI04QW4AGEEB9BE</td>\n",
       "      <td>191</td>\n",
       "      <td>0.0</td>\n",
       "      <td>1.0</td>\n",
       "      <td>0.0</td>\n",
       "      <td>0.0</td>\n",
       "      <td>0.0</td>\n",
       "      <td>0.0</td>\n",
       "      <td>0.0</td>\n",
       "      <td>0.0</td>\n",
       "      <td>0.0</td>\n",
       "    </tr>\n",
       "    <tr>\n",
       "      <th>4</th>\n",
       "      <td>A2YE7NBCK14VAQ</td>\n",
       "      <td>3MDWE879UIGKZCXHI04QW4AGEEB9BE</td>\n",
       "      <td>4</td>\n",
       "      <td>0.0</td>\n",
       "      <td>1.0</td>\n",
       "      <td>0.0</td>\n",
       "      <td>0.0</td>\n",
       "      <td>0.0</td>\n",
       "      <td>0.0</td>\n",
       "      <td>0.0</td>\n",
       "      <td>0.0</td>\n",
       "      <td>0.0</td>\n",
       "    </tr>\n",
       "  </tbody>\n",
       "</table>\n",
       "</div>"
      ],
      "text/plain": [
       "         WorkerId                           HITId  WorkTimeInSeconds  \\\n",
       "0   ATR6RB1RULOC0  3LN50BUKPWPH48Z0Q2PHWX60VC7LP8                  4   \n",
       "1   AEF601SQFOSBL  3LN50BUKPWPH48Z0Q2PHWX60VC7LP8                 18   \n",
       "2  A2HM35CWB7IIFM  3LN50BUKPWPH48Z0Q2PHWX60VC7LP8                  5   \n",
       "3  A1IHI23KH87K5W  3MDWE879UIGKZCXHI04QW4AGEEB9BE                191   \n",
       "4  A2YE7NBCK14VAQ  3MDWE879UIGKZCXHI04QW4AGEEB9BE                  4   \n",
       "\n",
       "   trump_bad  NoMeaning  Other  trump_untrustworthy  support_trump  \\\n",
       "0        1.0        0.0    0.0                  0.0            0.0   \n",
       "1        1.0        0.0    0.0                  0.0            0.0   \n",
       "2        1.0        0.0    0.0                  0.0            0.0   \n",
       "3        0.0        1.0    0.0                  0.0            0.0   \n",
       "4        0.0        1.0    0.0                  0.0            0.0   \n",
       "\n",
       "   don't_vote_trump  trump_afraid  trump_irresponsible  trump_weak  \n",
       "0               0.0           0.0                  0.0         0.0  \n",
       "1               0.0           0.0                  0.0         0.0  \n",
       "2               0.0           0.0                  0.0         0.0  \n",
       "3               0.0           0.0                  0.0         0.0  \n",
       "4               0.0           0.0                  0.0         0.0  "
      ]
     },
     "execution_count": 3,
     "metadata": {},
     "output_type": "execute_result"
    }
   ],
   "source": [
    "ct.df.head()"
   ]
  },
  {
   "cell_type": "markdown",
   "metadata": {},
   "source": [
    "## `CrowdTruth.clarity_df`\n",
    "This dataframe represents the aggregated labels indexed by each `HITId`. This dataframe is the basis for most of the item and relation metrics.\n",
    "These are organized as ***items*** (rows) and ***relations*** (columns).\n",
    "\n",
    "An ***\"item\"*** refers to a specific thing that is being coded. Since each item is its own HIT (Human Intelligence Task), they are indexed by the corresponding `HITId` from AMT.\n",
    "\n",
    "A ***\"relation\"*** refers to a label or annotation that the turk workers can choose from."
   ]
  },
  {
   "cell_type": "code",
   "execution_count": 4,
   "metadata": {},
   "outputs": [
    {
     "data": {
      "text/html": [
       "<div>\n",
       "<style scoped>\n",
       "    .dataframe tbody tr th:only-of-type {\n",
       "        vertical-align: middle;\n",
       "    }\n",
       "\n",
       "    .dataframe tbody tr th {\n",
       "        vertical-align: top;\n",
       "    }\n",
       "\n",
       "    .dataframe thead th {\n",
       "        text-align: right;\n",
       "    }\n",
       "</style>\n",
       "<table border=\"1\" class=\"dataframe\">\n",
       "  <thead>\n",
       "    <tr style=\"text-align: right;\">\n",
       "      <th></th>\n",
       "      <th>trump_bad</th>\n",
       "      <th>NoMeaning</th>\n",
       "      <th>Other</th>\n",
       "      <th>trump_untrustworthy</th>\n",
       "      <th>support_trump</th>\n",
       "      <th>don't_vote_trump</th>\n",
       "      <th>trump_afraid</th>\n",
       "      <th>trump_irresponsible</th>\n",
       "      <th>trump_weak</th>\n",
       "    </tr>\n",
       "    <tr>\n",
       "      <th>HITId</th>\n",
       "      <th></th>\n",
       "      <th></th>\n",
       "      <th></th>\n",
       "      <th></th>\n",
       "      <th></th>\n",
       "      <th></th>\n",
       "      <th></th>\n",
       "      <th></th>\n",
       "      <th></th>\n",
       "    </tr>\n",
       "  </thead>\n",
       "  <tbody>\n",
       "    <tr>\n",
       "      <th>301KG0KX9DZJQ5F4XJZ78S503L6H2A</th>\n",
       "      <td>1.0</td>\n",
       "      <td>0.0</td>\n",
       "      <td>1.0</td>\n",
       "      <td>0.0</td>\n",
       "      <td>1.0</td>\n",
       "      <td>0.0</td>\n",
       "      <td>0.0</td>\n",
       "      <td>0.0</td>\n",
       "      <td>0.0</td>\n",
       "    </tr>\n",
       "    <tr>\n",
       "      <th>301KG0KX9DZJQ5F4XJZ78S503L72HW</th>\n",
       "      <td>0.0</td>\n",
       "      <td>0.0</td>\n",
       "      <td>2.0</td>\n",
       "      <td>0.0</td>\n",
       "      <td>0.0</td>\n",
       "      <td>1.0</td>\n",
       "      <td>0.0</td>\n",
       "      <td>0.0</td>\n",
       "      <td>0.0</td>\n",
       "    </tr>\n",
       "    <tr>\n",
       "      <th>302OLP89D0LHE0ZSO6EL3JRI2HTAC1</th>\n",
       "      <td>0.0</td>\n",
       "      <td>0.0</td>\n",
       "      <td>1.0</td>\n",
       "      <td>0.0</td>\n",
       "      <td>2.0</td>\n",
       "      <td>0.0</td>\n",
       "      <td>0.0</td>\n",
       "      <td>0.0</td>\n",
       "      <td>0.0</td>\n",
       "    </tr>\n",
       "    <tr>\n",
       "      <th>302OLP89D0LHE0ZSO6EL3JRI2HTCA3</th>\n",
       "      <td>0.0</td>\n",
       "      <td>0.0</td>\n",
       "      <td>0.0</td>\n",
       "      <td>0.0</td>\n",
       "      <td>0.0</td>\n",
       "      <td>0.0</td>\n",
       "      <td>0.0</td>\n",
       "      <td>3.0</td>\n",
       "      <td>0.0</td>\n",
       "    </tr>\n",
       "    <tr>\n",
       "      <th>302U8RURJ0FKXSZHOREVFHZ7MV8NVX</th>\n",
       "      <td>0.0</td>\n",
       "      <td>0.0</td>\n",
       "      <td>3.0</td>\n",
       "      <td>0.0</td>\n",
       "      <td>0.0</td>\n",
       "      <td>0.0</td>\n",
       "      <td>0.0</td>\n",
       "      <td>0.0</td>\n",
       "      <td>0.0</td>\n",
       "    </tr>\n",
       "  </tbody>\n",
       "</table>\n",
       "</div>"
      ],
      "text/plain": [
       "                                trump_bad  NoMeaning  Other  \\\n",
       "HITId                                                         \n",
       "301KG0KX9DZJQ5F4XJZ78S503L6H2A        1.0        0.0    1.0   \n",
       "301KG0KX9DZJQ5F4XJZ78S503L72HW        0.0        0.0    2.0   \n",
       "302OLP89D0LHE0ZSO6EL3JRI2HTAC1        0.0        0.0    1.0   \n",
       "302OLP89D0LHE0ZSO6EL3JRI2HTCA3        0.0        0.0    0.0   \n",
       "302U8RURJ0FKXSZHOREVFHZ7MV8NVX        0.0        0.0    3.0   \n",
       "\n",
       "                                trump_untrustworthy  support_trump  \\\n",
       "HITId                                                                \n",
       "301KG0KX9DZJQ5F4XJZ78S503L6H2A                  0.0            1.0   \n",
       "301KG0KX9DZJQ5F4XJZ78S503L72HW                  0.0            0.0   \n",
       "302OLP89D0LHE0ZSO6EL3JRI2HTAC1                  0.0            2.0   \n",
       "302OLP89D0LHE0ZSO6EL3JRI2HTCA3                  0.0            0.0   \n",
       "302U8RURJ0FKXSZHOREVFHZ7MV8NVX                  0.0            0.0   \n",
       "\n",
       "                                don't_vote_trump  trump_afraid  \\\n",
       "HITId                                                            \n",
       "301KG0KX9DZJQ5F4XJZ78S503L6H2A               0.0           0.0   \n",
       "301KG0KX9DZJQ5F4XJZ78S503L72HW               1.0           0.0   \n",
       "302OLP89D0LHE0ZSO6EL3JRI2HTAC1               0.0           0.0   \n",
       "302OLP89D0LHE0ZSO6EL3JRI2HTCA3               0.0           0.0   \n",
       "302U8RURJ0FKXSZHOREVFHZ7MV8NVX               0.0           0.0   \n",
       "\n",
       "                                trump_irresponsible  trump_weak  \n",
       "HITId                                                            \n",
       "301KG0KX9DZJQ5F4XJZ78S503L6H2A                  0.0         0.0  \n",
       "301KG0KX9DZJQ5F4XJZ78S503L72HW                  0.0         0.0  \n",
       "302OLP89D0LHE0ZSO6EL3JRI2HTAC1                  0.0         0.0  \n",
       "302OLP89D0LHE0ZSO6EL3JRI2HTCA3                  3.0         0.0  \n",
       "302U8RURJ0FKXSZHOREVFHZ7MV8NVX                  0.0         0.0  "
      ]
     },
     "execution_count": 4,
     "metadata": {},
     "output_type": "execute_result"
    }
   ],
   "source": [
    "ct.clarity_df.head()"
   ]
  },
  {
   "cell_type": "markdown",
   "metadata": {},
   "source": [
    "## Item-relation scores\n",
    "#### `CrowdTruth.get_item_relation_scores()`\n",
    "This score represents how well a *relation* represents an *item*. Effectively, it is the number of times an item was labeled with a relation divided by the total number of times the item was labeled. A score of `1.0` for an item and relation means that all turk workers provided this specific relation \n",
    "for the item. A score of `0.666` for an item and relation means that two thirds of the turk workers provided this label for this item.\n",
    "\n",
    "***NOTE:*** the item-relation dataframe is organized (column and row indexing) exactly the same as the `clarity_df`"
   ]
  },
  {
   "cell_type": "code",
   "execution_count": 5,
   "metadata": {},
   "outputs": [
    {
     "data": {
      "text/html": [
       "<div>\n",
       "<style scoped>\n",
       "    .dataframe tbody tr th:only-of-type {\n",
       "        vertical-align: middle;\n",
       "    }\n",
       "\n",
       "    .dataframe tbody tr th {\n",
       "        vertical-align: top;\n",
       "    }\n",
       "\n",
       "    .dataframe thead th {\n",
       "        text-align: right;\n",
       "    }\n",
       "</style>\n",
       "<table border=\"1\" class=\"dataframe\">\n",
       "  <thead>\n",
       "    <tr style=\"text-align: right;\">\n",
       "      <th></th>\n",
       "      <th>trump_bad</th>\n",
       "      <th>NoMeaning</th>\n",
       "      <th>Other</th>\n",
       "      <th>trump_untrustworthy</th>\n",
       "      <th>support_trump</th>\n",
       "      <th>don't_vote_trump</th>\n",
       "      <th>trump_afraid</th>\n",
       "      <th>trump_irresponsible</th>\n",
       "      <th>trump_weak</th>\n",
       "    </tr>\n",
       "    <tr>\n",
       "      <th>HITId</th>\n",
       "      <th></th>\n",
       "      <th></th>\n",
       "      <th></th>\n",
       "      <th></th>\n",
       "      <th></th>\n",
       "      <th></th>\n",
       "      <th></th>\n",
       "      <th></th>\n",
       "      <th></th>\n",
       "    </tr>\n",
       "  </thead>\n",
       "  <tbody>\n",
       "    <tr>\n",
       "      <th>301KG0KX9DZJQ5F4XJZ78S503L6H2A</th>\n",
       "      <td>0.333333</td>\n",
       "      <td>0.000000</td>\n",
       "      <td>0.333333</td>\n",
       "      <td>0.0</td>\n",
       "      <td>0.333333</td>\n",
       "      <td>0.000000</td>\n",
       "      <td>0.000000</td>\n",
       "      <td>0.0</td>\n",
       "      <td>0.0</td>\n",
       "    </tr>\n",
       "    <tr>\n",
       "      <th>301KG0KX9DZJQ5F4XJZ78S503L72HW</th>\n",
       "      <td>0.000000</td>\n",
       "      <td>0.000000</td>\n",
       "      <td>0.666667</td>\n",
       "      <td>0.0</td>\n",
       "      <td>0.000000</td>\n",
       "      <td>0.333333</td>\n",
       "      <td>0.000000</td>\n",
       "      <td>0.0</td>\n",
       "      <td>0.0</td>\n",
       "    </tr>\n",
       "    <tr>\n",
       "      <th>302OLP89D0LHE0ZSO6EL3JRI2HTAC1</th>\n",
       "      <td>0.000000</td>\n",
       "      <td>0.000000</td>\n",
       "      <td>0.333333</td>\n",
       "      <td>0.0</td>\n",
       "      <td>0.666667</td>\n",
       "      <td>0.000000</td>\n",
       "      <td>0.000000</td>\n",
       "      <td>0.0</td>\n",
       "      <td>0.0</td>\n",
       "    </tr>\n",
       "    <tr>\n",
       "      <th>302OLP89D0LHE0ZSO6EL3JRI2HTCA3</th>\n",
       "      <td>0.000000</td>\n",
       "      <td>0.000000</td>\n",
       "      <td>0.000000</td>\n",
       "      <td>0.0</td>\n",
       "      <td>0.000000</td>\n",
       "      <td>0.000000</td>\n",
       "      <td>0.000000</td>\n",
       "      <td>1.0</td>\n",
       "      <td>0.0</td>\n",
       "    </tr>\n",
       "    <tr>\n",
       "      <th>302U8RURJ0FKXSZHOREVFHZ7MV8NVX</th>\n",
       "      <td>0.000000</td>\n",
       "      <td>0.000000</td>\n",
       "      <td>1.000000</td>\n",
       "      <td>0.0</td>\n",
       "      <td>0.000000</td>\n",
       "      <td>0.000000</td>\n",
       "      <td>0.000000</td>\n",
       "      <td>0.0</td>\n",
       "      <td>0.0</td>\n",
       "    </tr>\n",
       "    <tr>\n",
       "      <th>...</th>\n",
       "      <td>...</td>\n",
       "      <td>...</td>\n",
       "      <td>...</td>\n",
       "      <td>...</td>\n",
       "      <td>...</td>\n",
       "      <td>...</td>\n",
       "      <td>...</td>\n",
       "      <td>...</td>\n",
       "      <td>...</td>\n",
       "    </tr>\n",
       "    <tr>\n",
       "      <th>3ZXNP4Z39SZSY2V0UGV0WBFFVI1L71</th>\n",
       "      <td>0.000000</td>\n",
       "      <td>0.000000</td>\n",
       "      <td>0.333333</td>\n",
       "      <td>0.0</td>\n",
       "      <td>0.666667</td>\n",
       "      <td>0.000000</td>\n",
       "      <td>0.000000</td>\n",
       "      <td>0.0</td>\n",
       "      <td>0.0</td>\n",
       "    </tr>\n",
       "    <tr>\n",
       "      <th>3ZXV7Q5FJC2CARG0ZM0DHK29ZX6CFG</th>\n",
       "      <td>0.000000</td>\n",
       "      <td>0.000000</td>\n",
       "      <td>0.666667</td>\n",
       "      <td>0.0</td>\n",
       "      <td>0.000000</td>\n",
       "      <td>0.333333</td>\n",
       "      <td>0.000000</td>\n",
       "      <td>0.0</td>\n",
       "      <td>0.0</td>\n",
       "    </tr>\n",
       "    <tr>\n",
       "      <th>3ZXV7Q5FJC2CARG0ZM0DHK29ZX6FCJ</th>\n",
       "      <td>1.000000</td>\n",
       "      <td>0.000000</td>\n",
       "      <td>0.000000</td>\n",
       "      <td>0.0</td>\n",
       "      <td>0.000000</td>\n",
       "      <td>0.000000</td>\n",
       "      <td>0.000000</td>\n",
       "      <td>0.0</td>\n",
       "      <td>0.0</td>\n",
       "    </tr>\n",
       "    <tr>\n",
       "      <th>3ZZAYRN1I75N2LV4KBETTOBRFKXOTX</th>\n",
       "      <td>0.000000</td>\n",
       "      <td>0.666667</td>\n",
       "      <td>0.000000</td>\n",
       "      <td>0.0</td>\n",
       "      <td>0.000000</td>\n",
       "      <td>0.333333</td>\n",
       "      <td>0.000000</td>\n",
       "      <td>0.0</td>\n",
       "      <td>0.0</td>\n",
       "    </tr>\n",
       "    <tr>\n",
       "      <th>3ZZAYRN1I75N2LV4KBETTOBRFKXTO2</th>\n",
       "      <td>0.000000</td>\n",
       "      <td>0.000000</td>\n",
       "      <td>0.333333</td>\n",
       "      <td>0.0</td>\n",
       "      <td>0.000000</td>\n",
       "      <td>0.000000</td>\n",
       "      <td>0.666667</td>\n",
       "      <td>0.0</td>\n",
       "      <td>0.0</td>\n",
       "    </tr>\n",
       "  </tbody>\n",
       "</table>\n",
       "<p>987 rows × 9 columns</p>\n",
       "</div>"
      ],
      "text/plain": [
       "                                trump_bad  NoMeaning     Other  \\\n",
       "HITId                                                            \n",
       "301KG0KX9DZJQ5F4XJZ78S503L6H2A   0.333333   0.000000  0.333333   \n",
       "301KG0KX9DZJQ5F4XJZ78S503L72HW   0.000000   0.000000  0.666667   \n",
       "302OLP89D0LHE0ZSO6EL3JRI2HTAC1   0.000000   0.000000  0.333333   \n",
       "302OLP89D0LHE0ZSO6EL3JRI2HTCA3   0.000000   0.000000  0.000000   \n",
       "302U8RURJ0FKXSZHOREVFHZ7MV8NVX   0.000000   0.000000  1.000000   \n",
       "...                                   ...        ...       ...   \n",
       "3ZXNP4Z39SZSY2V0UGV0WBFFVI1L71   0.000000   0.000000  0.333333   \n",
       "3ZXV7Q5FJC2CARG0ZM0DHK29ZX6CFG   0.000000   0.000000  0.666667   \n",
       "3ZXV7Q5FJC2CARG0ZM0DHK29ZX6FCJ   1.000000   0.000000  0.000000   \n",
       "3ZZAYRN1I75N2LV4KBETTOBRFKXOTX   0.000000   0.666667  0.000000   \n",
       "3ZZAYRN1I75N2LV4KBETTOBRFKXTO2   0.000000   0.000000  0.333333   \n",
       "\n",
       "                                trump_untrustworthy  support_trump  \\\n",
       "HITId                                                                \n",
       "301KG0KX9DZJQ5F4XJZ78S503L6H2A                  0.0       0.333333   \n",
       "301KG0KX9DZJQ5F4XJZ78S503L72HW                  0.0       0.000000   \n",
       "302OLP89D0LHE0ZSO6EL3JRI2HTAC1                  0.0       0.666667   \n",
       "302OLP89D0LHE0ZSO6EL3JRI2HTCA3                  0.0       0.000000   \n",
       "302U8RURJ0FKXSZHOREVFHZ7MV8NVX                  0.0       0.000000   \n",
       "...                                             ...            ...   \n",
       "3ZXNP4Z39SZSY2V0UGV0WBFFVI1L71                  0.0       0.666667   \n",
       "3ZXV7Q5FJC2CARG0ZM0DHK29ZX6CFG                  0.0       0.000000   \n",
       "3ZXV7Q5FJC2CARG0ZM0DHK29ZX6FCJ                  0.0       0.000000   \n",
       "3ZZAYRN1I75N2LV4KBETTOBRFKXOTX                  0.0       0.000000   \n",
       "3ZZAYRN1I75N2LV4KBETTOBRFKXTO2                  0.0       0.000000   \n",
       "\n",
       "                                don't_vote_trump  trump_afraid  \\\n",
       "HITId                                                            \n",
       "301KG0KX9DZJQ5F4XJZ78S503L6H2A          0.000000      0.000000   \n",
       "301KG0KX9DZJQ5F4XJZ78S503L72HW          0.333333      0.000000   \n",
       "302OLP89D0LHE0ZSO6EL3JRI2HTAC1          0.000000      0.000000   \n",
       "302OLP89D0LHE0ZSO6EL3JRI2HTCA3          0.000000      0.000000   \n",
       "302U8RURJ0FKXSZHOREVFHZ7MV8NVX          0.000000      0.000000   \n",
       "...                                          ...           ...   \n",
       "3ZXNP4Z39SZSY2V0UGV0WBFFVI1L71          0.000000      0.000000   \n",
       "3ZXV7Q5FJC2CARG0ZM0DHK29ZX6CFG          0.333333      0.000000   \n",
       "3ZXV7Q5FJC2CARG0ZM0DHK29ZX6FCJ          0.000000      0.000000   \n",
       "3ZZAYRN1I75N2LV4KBETTOBRFKXOTX          0.333333      0.000000   \n",
       "3ZZAYRN1I75N2LV4KBETTOBRFKXTO2          0.000000      0.666667   \n",
       "\n",
       "                                trump_irresponsible  trump_weak  \n",
       "HITId                                                            \n",
       "301KG0KX9DZJQ5F4XJZ78S503L6H2A                  0.0         0.0  \n",
       "301KG0KX9DZJQ5F4XJZ78S503L72HW                  0.0         0.0  \n",
       "302OLP89D0LHE0ZSO6EL3JRI2HTAC1                  0.0         0.0  \n",
       "302OLP89D0LHE0ZSO6EL3JRI2HTCA3                  1.0         0.0  \n",
       "302U8RURJ0FKXSZHOREVFHZ7MV8NVX                  0.0         0.0  \n",
       "...                                             ...         ...  \n",
       "3ZXNP4Z39SZSY2V0UGV0WBFFVI1L71                  0.0         0.0  \n",
       "3ZXV7Q5FJC2CARG0ZM0DHK29ZX6CFG                  0.0         0.0  \n",
       "3ZXV7Q5FJC2CARG0ZM0DHK29ZX6FCJ                  0.0         0.0  \n",
       "3ZZAYRN1I75N2LV4KBETTOBRFKXOTX                  0.0         0.0  \n",
       "3ZZAYRN1I75N2LV4KBETTOBRFKXTO2                  0.0         0.0  \n",
       "\n",
       "[987 rows x 9 columns]"
      ]
     },
     "execution_count": 5,
     "metadata": {},
     "output_type": "execute_result"
    }
   ],
   "source": [
    "ct.get_item_relation_scores()"
   ]
  },
  {
   "cell_type": "markdown",
   "metadata": {},
   "source": [
    "## Item Clarity\n",
    "\n",
    "***Item Clarity*** is the highest *item-relation score* attributed to a specific item. If a score is less than a `1.0`, it means that there was never a point in which all annotators fully agreed that this item could be represented by any single relation"
   ]
  },
  {
   "cell_type": "markdown",
   "metadata": {},
   "source": [
    "#### `CrowdTruth.get_item_clarity(item_ind)`\n",
    "get a *item clarity* for a single item"
   ]
  },
  {
   "cell_type": "code",
   "execution_count": 6,
   "metadata": {},
   "outputs": [
    {
     "data": {
      "text/plain": [
       "0.3333333333333333"
      ]
     },
     "execution_count": 6,
     "metadata": {},
     "output_type": "execute_result"
    }
   ],
   "source": [
    "example_item_ind = '301KG0KX9DZJQ5F4XJZ78S503L6H2A'\n",
    "ct.get_item_clarity(example_item_ind)"
   ]
  },
  {
   "cell_type": "markdown",
   "metadata": {},
   "source": [
    "### Sorting Items from lowest to highest clarity to identify unclear items"
   ]
  },
  {
   "cell_type": "code",
   "execution_count": 7,
   "metadata": {},
   "outputs": [
    {
     "data": {
      "text/plain": [
       "HITId\n",
       "33KMQD9OFKSTJH6YQMUQD6XE0YW77E    0.250000\n",
       "3NOEP8XAU5GC42GP4LS57R1N2LHXP6    0.250000\n",
       "3TLFH2L6YA29VE6ZXDGWMB8OEF1T2W    0.250000\n",
       "3X2LT8FDHXWC9ACI8ZU8JMSQ49BW8S    0.250000\n",
       "363A7XIFV50DD95SFN9QTBF7NO9VAL    0.250000\n",
       "3Q9SPIIRWK0QSY5X5XEMFDYLUXBWAW    0.250000\n",
       "34O39PNDK7MQ3CT3CH4CNPAAK0HRBJ    0.250000\n",
       "38DCH97KHIGW9UCFNUSTGNJIWJOQJ2    0.250000\n",
       "3CO05SML7WJPJPQTE17N38ERTWL0R7    0.250000\n",
       "3OND0WXMHXTBLLRKQ3U8ATEP0OWEH9    0.250000\n",
       "37SOB9Z0STBAXJUDS4SAJU3ZQGG3LF    0.250000\n",
       "3AXFSPQOYRCZI5M69EHZ4OF4PHFJF1    0.285714\n",
       "3HEM8MA6HAQSV5FDI7XDDJ5U5IUQP2    0.333333\n",
       "31MBOZ6PAP5YAJQWLX3BCX7TWTSLCU    0.333333\n",
       "371Q3BEXDINYMPWWXKKKZHM9X5MZSL    0.333333\n",
       "3HEM8MA6HAQSV5FDI7XDDJ5U5IUPQ1    0.333333\n",
       "3SU800BH8765NAN9ZTW7NPSTDZMQUY    0.333333\n",
       "3R16PJFTS45KV9VZ7ILSEZIQFG6K4D    0.333333\n",
       "3J06WJ78HOYX5X8QQI0MPYTK8YAVVM    0.333333\n",
       "3538U0YQ1G8OXRKH6TPCOHYFTKTF3L    0.333333\n",
       "dtype: float64"
      ]
     },
     "execution_count": 7,
     "metadata": {},
     "output_type": "execute_result"
    }
   ],
   "source": [
    "item_rel_df = ct.get_item_relation_scores()\n",
    "item_rel_df.max(axis=1).sort_values().head(20)"
   ]
  },
  {
   "cell_type": "markdown",
   "metadata": {},
   "source": [
    "### Plot distribution of item clarities"
   ]
  },
  {
   "cell_type": "code",
   "execution_count": 8,
   "metadata": {},
   "outputs": [
    {
     "data": {
      "text/plain": [
       "<matplotlib.axes._subplots.AxesSubplot at 0x11307b090>"
      ]
     },
     "execution_count": 8,
     "metadata": {},
     "output_type": "execute_result"
    },
    {
     "data": {
      "image/png": "[encoded data removed]",
      "text/plain": [
       "<Figure size 432x288 with 1 Axes>"
      ]
     },
     "metadata": {
      "needs_background": "light"
     },
     "output_type": "display_data"
    }
   ],
   "source": [
    "item_rel_df.max(axis=1).plot(kind='hist')"
   ]
  },
  {
   "cell_type": "markdown",
   "metadata": {},
   "source": [
    "## Relation Clarity\n",
    "*Relation clarity* is the maximum item-relation score for a relation among all items.  A relation clarity score of less than `1.0` means that throughout the\n",
    "dataset the *relation* was never unanimously agreed to represent an item.\n",
    "\n",
    "***Note:*** The `num_annotations` column represents the number of times a *relation* was used throughout the dataset. This is provided as helpful context for understanding the relation clarity scores (`rel_clarity`)"
   ]
  },
  {
   "cell_type": "code",
   "execution_count": 9,
   "metadata": {},
   "outputs": [
    {
     "data": {
      "text/html": [
       "<div>\n",
       "<style scoped>\n",
       "    .dataframe tbody tr th:only-of-type {\n",
       "        vertical-align: middle;\n",
       "    }\n",
       "\n",
       "    .dataframe tbody tr th {\n",
       "        vertical-align: top;\n",
       "    }\n",
       "\n",
       "    .dataframe thead th {\n",
       "        text-align: right;\n",
       "    }\n",
       "</style>\n",
       "<table border=\"1\" class=\"dataframe\">\n",
       "  <thead>\n",
       "    <tr style=\"text-align: right;\">\n",
       "      <th></th>\n",
       "      <th>rel_clarity</th>\n",
       "      <th>num_annotations</th>\n",
       "    </tr>\n",
       "  </thead>\n",
       "  <tbody>\n",
       "    <tr>\n",
       "      <th>Other</th>\n",
       "      <td>1.00</td>\n",
       "      <td>1011.0</td>\n",
       "    </tr>\n",
       "    <tr>\n",
       "      <th>don't_vote_trump</th>\n",
       "      <td>1.00</td>\n",
       "      <td>515.0</td>\n",
       "    </tr>\n",
       "    <tr>\n",
       "      <th>trump_bad</th>\n",
       "      <td>1.00</td>\n",
       "      <td>501.0</td>\n",
       "    </tr>\n",
       "    <tr>\n",
       "      <th>trump_afraid</th>\n",
       "      <td>1.00</td>\n",
       "      <td>469.0</td>\n",
       "    </tr>\n",
       "    <tr>\n",
       "      <th>support_trump</th>\n",
       "      <td>1.00</td>\n",
       "      <td>222.0</td>\n",
       "    </tr>\n",
       "    <tr>\n",
       "      <th>trump_irresponsible</th>\n",
       "      <td>1.00</td>\n",
       "      <td>165.0</td>\n",
       "    </tr>\n",
       "    <tr>\n",
       "      <th>NoMeaning</th>\n",
       "      <td>1.00</td>\n",
       "      <td>122.0</td>\n",
       "    </tr>\n",
       "    <tr>\n",
       "      <th>trump_untrustworthy</th>\n",
       "      <td>1.00</td>\n",
       "      <td>110.0</td>\n",
       "    </tr>\n",
       "    <tr>\n",
       "      <th>trump_weak</th>\n",
       "      <td>0.75</td>\n",
       "      <td>75.0</td>\n",
       "    </tr>\n",
       "  </tbody>\n",
       "</table>\n",
       "</div>"
      ],
      "text/plain": [
       "                     rel_clarity  num_annotations\n",
       "Other                       1.00           1011.0\n",
       "don't_vote_trump            1.00            515.0\n",
       "trump_bad                   1.00            501.0\n",
       "trump_afraid                1.00            469.0\n",
       "support_trump               1.00            222.0\n",
       "trump_irresponsible         1.00            165.0\n",
       "NoMeaning                   1.00            122.0\n",
       "trump_untrustworthy         1.00            110.0\n",
       "trump_weak                  0.75             75.0"
      ]
     },
     "execution_count": 9,
     "metadata": {},
     "output_type": "execute_result"
    }
   ],
   "source": [
    "ct.relation_clarity_scores()"
   ]
  },
  {
   "cell_type": "markdown",
   "metadata": {},
   "source": [
    "# Worker Metrics\n",
    "\n",
    "#### `CrowdTruth.get_worker_df(worker_id, include_worktime=False)`\n",
    "for each worker, we can get a dataframe similar to `clarity_df` with only that workers contributions using their worker Id.\n",
    "If desired, we can include the time it took to complete each task as well by adding `include_worktime=True`"
   ]
  },
  {
   "cell_type": "code",
   "execution_count": 10,
   "metadata": {},
   "outputs": [
    {
     "data": {
      "text/html": [
       "<div>\n",
       "<style scoped>\n",
       "    .dataframe tbody tr th:only-of-type {\n",
       "        vertical-align: middle;\n",
       "    }\n",
       "\n",
       "    .dataframe tbody tr th {\n",
       "        vertical-align: top;\n",
       "    }\n",
       "\n",
       "    .dataframe thead th {\n",
       "        text-align: right;\n",
       "    }\n",
       "</style>\n",
       "<table border=\"1\" class=\"dataframe\">\n",
       "  <thead>\n",
       "    <tr style=\"text-align: right;\">\n",
       "      <th></th>\n",
       "      <th>trump_bad</th>\n",
       "      <th>NoMeaning</th>\n",
       "      <th>Other</th>\n",
       "      <th>trump_untrustworthy</th>\n",
       "      <th>support_trump</th>\n",
       "      <th>don't_vote_trump</th>\n",
       "      <th>trump_afraid</th>\n",
       "      <th>trump_irresponsible</th>\n",
       "      <th>trump_weak</th>\n",
       "    </tr>\n",
       "    <tr>\n",
       "      <th>HITId</th>\n",
       "      <th></th>\n",
       "      <th></th>\n",
       "      <th></th>\n",
       "      <th></th>\n",
       "      <th></th>\n",
       "      <th></th>\n",
       "      <th></th>\n",
       "      <th></th>\n",
       "      <th></th>\n",
       "    </tr>\n",
       "  </thead>\n",
       "  <tbody>\n",
       "    <tr>\n",
       "      <th>301KG0KX9DZJQ5F4XJZ78S503L6H2A</th>\n",
       "      <td>0.0</td>\n",
       "      <td>0.0</td>\n",
       "      <td>0.0</td>\n",
       "      <td>0.0</td>\n",
       "      <td>0.0</td>\n",
       "      <td>0.0</td>\n",
       "      <td>0.0</td>\n",
       "      <td>0.0</td>\n",
       "      <td>0.0</td>\n",
       "    </tr>\n",
       "    <tr>\n",
       "      <th>301KG0KX9DZJQ5F4XJZ78S503L72HW</th>\n",
       "      <td>0.0</td>\n",
       "      <td>0.0</td>\n",
       "      <td>0.0</td>\n",
       "      <td>0.0</td>\n",
       "      <td>0.0</td>\n",
       "      <td>0.0</td>\n",
       "      <td>0.0</td>\n",
       "      <td>0.0</td>\n",
       "      <td>0.0</td>\n",
       "    </tr>\n",
       "    <tr>\n",
       "      <th>302OLP89D0LHE0ZSO6EL3JRI2HTAC1</th>\n",
       "      <td>0.0</td>\n",
       "      <td>0.0</td>\n",
       "      <td>0.0</td>\n",
       "      <td>0.0</td>\n",
       "      <td>0.0</td>\n",
       "      <td>0.0</td>\n",
       "      <td>0.0</td>\n",
       "      <td>0.0</td>\n",
       "      <td>0.0</td>\n",
       "    </tr>\n",
       "    <tr>\n",
       "      <th>302OLP89D0LHE0ZSO6EL3JRI2HTCA3</th>\n",
       "      <td>0.0</td>\n",
       "      <td>0.0</td>\n",
       "      <td>0.0</td>\n",
       "      <td>0.0</td>\n",
       "      <td>0.0</td>\n",
       "      <td>0.0</td>\n",
       "      <td>0.0</td>\n",
       "      <td>0.0</td>\n",
       "      <td>0.0</td>\n",
       "    </tr>\n",
       "    <tr>\n",
       "      <th>302U8RURJ0FKXSZHOREVFHZ7MV8NVX</th>\n",
       "      <td>0.0</td>\n",
       "      <td>0.0</td>\n",
       "      <td>0.0</td>\n",
       "      <td>0.0</td>\n",
       "      <td>0.0</td>\n",
       "      <td>0.0</td>\n",
       "      <td>0.0</td>\n",
       "      <td>0.0</td>\n",
       "      <td>0.0</td>\n",
       "    </tr>\n",
       "  </tbody>\n",
       "</table>\n",
       "</div>"
      ],
      "text/plain": [
       "                                trump_bad  NoMeaning  Other  \\\n",
       "HITId                                                         \n",
       "301KG0KX9DZJQ5F4XJZ78S503L6H2A        0.0        0.0    0.0   \n",
       "301KG0KX9DZJQ5F4XJZ78S503L72HW        0.0        0.0    0.0   \n",
       "302OLP89D0LHE0ZSO6EL3JRI2HTAC1        0.0        0.0    0.0   \n",
       "302OLP89D0LHE0ZSO6EL3JRI2HTCA3        0.0        0.0    0.0   \n",
       "302U8RURJ0FKXSZHOREVFHZ7MV8NVX        0.0        0.0    0.0   \n",
       "\n",
       "                                trump_untrustworthy  support_trump  \\\n",
       "HITId                                                                \n",
       "301KG0KX9DZJQ5F4XJZ78S503L6H2A                  0.0            0.0   \n",
       "301KG0KX9DZJQ5F4XJZ78S503L72HW                  0.0            0.0   \n",
       "302OLP89D0LHE0ZSO6EL3JRI2HTAC1                  0.0            0.0   \n",
       "302OLP89D0LHE0ZSO6EL3JRI2HTCA3                  0.0            0.0   \n",
       "302U8RURJ0FKXSZHOREVFHZ7MV8NVX                  0.0            0.0   \n",
       "\n",
       "                                don't_vote_trump  trump_afraid  \\\n",
       "HITId                                                            \n",
       "301KG0KX9DZJQ5F4XJZ78S503L6H2A               0.0           0.0   \n",
       "301KG0KX9DZJQ5F4XJZ78S503L72HW               0.0           0.0   \n",
       "302OLP89D0LHE0ZSO6EL3JRI2HTAC1               0.0           0.0   \n",
       "302OLP89D0LHE0ZSO6EL3JRI2HTCA3               0.0           0.0   \n",
       "302U8RURJ0FKXSZHOREVFHZ7MV8NVX               0.0           0.0   \n",
       "\n",
       "                                trump_irresponsible  trump_weak  \n",
       "HITId                                                            \n",
       "301KG0KX9DZJQ5F4XJZ78S503L6H2A                  0.0         0.0  \n",
       "301KG0KX9DZJQ5F4XJZ78S503L72HW                  0.0         0.0  \n",
       "302OLP89D0LHE0ZSO6EL3JRI2HTAC1                  0.0         0.0  \n",
       "302OLP89D0LHE0ZSO6EL3JRI2HTCA3                  0.0         0.0  \n",
       "302U8RURJ0FKXSZHOREVFHZ7MV8NVX                  0.0         0.0  "
      ]
     },
     "execution_count": 10,
     "metadata": {},
     "output_type": "execute_result"
    }
   ],
   "source": [
    "example_worker_id = 'ATR6RB1RULOC0'\n",
    "\n",
    "w_df = ct.get_worker_df(example_worker_id)\n",
    "w_df.head()"
   ]
  },
  {
   "cell_type": "markdown",
   "metadata": {},
   "source": [
    "***Here is how to limit the dataframe to just the items that were labeled by the worker***"
   ]
  },
  {
   "cell_type": "code",
   "execution_count": 11,
   "metadata": {},
   "outputs": [
    {
     "data": {
      "text/html": [
       "<div>\n",
       "<style scoped>\n",
       "    .dataframe tbody tr th:only-of-type {\n",
       "        vertical-align: middle;\n",
       "    }\n",
       "\n",
       "    .dataframe tbody tr th {\n",
       "        vertical-align: top;\n",
       "    }\n",
       "\n",
       "    .dataframe thead th {\n",
       "        text-align: right;\n",
       "    }\n",
       "</style>\n",
       "<table border=\"1\" class=\"dataframe\">\n",
       "  <thead>\n",
       "    <tr style=\"text-align: right;\">\n",
       "      <th></th>\n",
       "      <th>trump_bad</th>\n",
       "      <th>NoMeaning</th>\n",
       "      <th>Other</th>\n",
       "      <th>trump_untrustworthy</th>\n",
       "      <th>support_trump</th>\n",
       "      <th>don't_vote_trump</th>\n",
       "      <th>trump_afraid</th>\n",
       "      <th>trump_irresponsible</th>\n",
       "      <th>trump_weak</th>\n",
       "    </tr>\n",
       "    <tr>\n",
       "      <th>HITId</th>\n",
       "      <th></th>\n",
       "      <th></th>\n",
       "      <th></th>\n",
       "      <th></th>\n",
       "      <th></th>\n",
       "      <th></th>\n",
       "      <th></th>\n",
       "      <th></th>\n",
       "      <th></th>\n",
       "    </tr>\n",
       "  </thead>\n",
       "  <tbody>\n",
       "    <tr>\n",
       "      <th>30Y6N4AHYQAJI9RNQDVIIFYANLTRDQ</th>\n",
       "      <td>0.0</td>\n",
       "      <td>0.0</td>\n",
       "      <td>0.0</td>\n",
       "      <td>0.0</td>\n",
       "      <td>0.0</td>\n",
       "      <td>1.0</td>\n",
       "      <td>1.0</td>\n",
       "      <td>1.0</td>\n",
       "      <td>0.0</td>\n",
       "    </tr>\n",
       "    <tr>\n",
       "      <th>338431Z1FMTAM6ICGM9YT9A9RZ0ORK</th>\n",
       "      <td>1.0</td>\n",
       "      <td>0.0</td>\n",
       "      <td>0.0</td>\n",
       "      <td>0.0</td>\n",
       "      <td>0.0</td>\n",
       "      <td>0.0</td>\n",
       "      <td>1.0</td>\n",
       "      <td>0.0</td>\n",
       "      <td>0.0</td>\n",
       "    </tr>\n",
       "    <tr>\n",
       "      <th>338GLSUI44PSH85WW8QDWP6RL0SFSD</th>\n",
       "      <td>0.0</td>\n",
       "      <td>0.0</td>\n",
       "      <td>0.0</td>\n",
       "      <td>0.0</td>\n",
       "      <td>0.0</td>\n",
       "      <td>1.0</td>\n",
       "      <td>0.0</td>\n",
       "      <td>1.0</td>\n",
       "      <td>0.0</td>\n",
       "    </tr>\n",
       "    <tr>\n",
       "      <th>36GJS3V78W45W5I1KYNHM9FGQWFJG0</th>\n",
       "      <td>0.0</td>\n",
       "      <td>0.0</td>\n",
       "      <td>0.0</td>\n",
       "      <td>0.0</td>\n",
       "      <td>0.0</td>\n",
       "      <td>1.0</td>\n",
       "      <td>1.0</td>\n",
       "      <td>0.0</td>\n",
       "      <td>0.0</td>\n",
       "    </tr>\n",
       "    <tr>\n",
       "      <th>39TX062QX225XDB26NVYUOYMXPPX3U</th>\n",
       "      <td>1.0</td>\n",
       "      <td>0.0</td>\n",
       "      <td>0.0</td>\n",
       "      <td>0.0</td>\n",
       "      <td>0.0</td>\n",
       "      <td>0.0</td>\n",
       "      <td>1.0</td>\n",
       "      <td>0.0</td>\n",
       "      <td>0.0</td>\n",
       "    </tr>\n",
       "  </tbody>\n",
       "</table>\n",
       "</div>"
      ],
      "text/plain": [
       "                                trump_bad  NoMeaning  Other  \\\n",
       "HITId                                                         \n",
       "30Y6N4AHYQAJI9RNQDVIIFYANLTRDQ        0.0        0.0    0.0   \n",
       "338431Z1FMTAM6ICGM9YT9A9RZ0ORK        1.0        0.0    0.0   \n",
       "338GLSUI44PSH85WW8QDWP6RL0SFSD        0.0        0.0    0.0   \n",
       "36GJS3V78W45W5I1KYNHM9FGQWFJG0        0.0        0.0    0.0   \n",
       "39TX062QX225XDB26NVYUOYMXPPX3U        1.0        0.0    0.0   \n",
       "\n",
       "                                trump_untrustworthy  support_trump  \\\n",
       "HITId                                                                \n",
       "30Y6N4AHYQAJI9RNQDVIIFYANLTRDQ                  0.0            0.0   \n",
       "338431Z1FMTAM6ICGM9YT9A9RZ0ORK                  0.0            0.0   \n",
       "338GLSUI44PSH85WW8QDWP6RL0SFSD                  0.0            0.0   \n",
       "36GJS3V78W45W5I1KYNHM9FGQWFJG0                  0.0            0.0   \n",
       "39TX062QX225XDB26NVYUOYMXPPX3U                  0.0            0.0   \n",
       "\n",
       "                                don't_vote_trump  trump_afraid  \\\n",
       "HITId                                                            \n",
       "30Y6N4AHYQAJI9RNQDVIIFYANLTRDQ               1.0           1.0   \n",
       "338431Z1FMTAM6ICGM9YT9A9RZ0ORK               0.0           1.0   \n",
       "338GLSUI44PSH85WW8QDWP6RL0SFSD               1.0           0.0   \n",
       "36GJS3V78W45W5I1KYNHM9FGQWFJG0               1.0           1.0   \n",
       "39TX062QX225XDB26NVYUOYMXPPX3U               0.0           1.0   \n",
       "\n",
       "                                trump_irresponsible  trump_weak  \n",
       "HITId                                                            \n",
       "30Y6N4AHYQAJI9RNQDVIIFYANLTRDQ                  1.0         0.0  \n",
       "338431Z1FMTAM6ICGM9YT9A9RZ0ORK                  0.0         0.0  \n",
       "338GLSUI44PSH85WW8QDWP6RL0SFSD                  1.0         0.0  \n",
       "36GJS3V78W45W5I1KYNHM9FGQWFJG0                  0.0         0.0  \n",
       "39TX062QX225XDB26NVYUOYMXPPX3U                  0.0         0.0  "
      ]
     },
     "execution_count": 11,
     "metadata": {},
     "output_type": "execute_result"
    }
   ],
   "source": [
    "w_df[w_df.sum(axis=1) > 1].head()"
   ]
  },
  {
   "cell_type": "markdown",
   "metadata": {},
   "source": [
    "#### `CrowdTruth.avg_annotations_per_item(w_df)`\n",
    "\n",
    "Retrieves the average number of annotations provided by a worker. This can help to understand how often a worker applies more than 1 label. \n",
    "\n",
    "Depending on the task, this may or may not be desired behavior."
   ]
  },
  {
   "cell_type": "code",
   "execution_count": 12,
   "metadata": {},
   "outputs": [
    {
     "data": {
      "text/plain": [
       "2.1666666666666665"
      ]
     },
     "execution_count": 12,
     "metadata": {},
     "output_type": "execute_result"
    }
   ],
   "source": [
    "ct.avg_annotations_per_item(w_df)"
   ]
  },
  {
   "cell_type": "markdown",
   "metadata": {},
   "source": [
    "## Worker Agreement Metrics\n",
    "Worker agreement metrics are the subject of a lot of debate (PUT LINKS HERE)."
   ]
  },
  {
   "cell_type": "markdown",
   "metadata": {},
   "source": [
    "### Worker-Worker Agreement (Asymmetric)\n",
    "One way to calculate the amount of agreement between to workers is to take the number of times that \n",
    "both workers attributed the same relation to the same item for all items that they both labeled and divide it by the number of times an annotation was provided by a worker. In a sense, this is a basic accuracy measure (number correct divide by total number of guesses)."
   ]
  },
  {
   "cell_type": "code",
   "execution_count": 13,
   "metadata": {},
   "outputs": [
    {
     "data": {
      "text/plain": [
       "0.6333333333333333"
      ]
     },
     "execution_count": 13,
     "metadata": {},
     "output_type": "execute_result"
    }
   ],
   "source": [
    "example_w_id1='ATR6RB1RULOC0'\n",
    "example_w_id2=\"AEF601SQFOSBL\"\n",
    "\n",
    "w_df1 = ct.get_worker_df(example_w_id1)\n",
    "w_df2 = ct.get_worker_df(example_w_id2)\n",
    "\n",
    "ct.asym_worker_agreement(w_df1, w_df2)"
   ]
  },
  {
   "cell_type": "markdown",
   "metadata": {},
   "source": [
    "***NOTE:*** A minimum number of common items can be imposed by using the `mimimum_common` parameter \n",
    "to vary the confidence in these agreement measures. \n",
    "If a pair of workers has less common items than the value of `minimum_common`, then a `NaN` value is returned.\n",
    "\n",
    "You can also use the `CrowdTruth.items_in_common()` function to get the total number of items that both workers have labeled."
   ]
  },
  {
   "cell_type": "code",
   "execution_count": 14,
   "metadata": {},
   "outputs": [
    {
     "data": {
      "text/plain": [
       "110"
      ]
     },
     "execution_count": 14,
     "metadata": {},
     "output_type": "execute_result"
    }
   ],
   "source": [
    "ct.items_in_common(w_df1, w_df2)"
   ]
  },
  {
   "cell_type": "markdown",
   "metadata": {},
   "source": [
    "### Average Worker-Worker Agreement `CrowdTruth.avg_asym_worker_agreement()`\n",
    "This score is the average of a worker's agreement (`asym_worker_agreement`) with all other workers."
   ]
  },
  {
   "cell_type": "code",
   "execution_count": 15,
   "metadata": {},
   "outputs": [
    {
     "data": {
      "text/plain": [
       "0.6673487913683993"
      ]
     },
     "execution_count": 15,
     "metadata": {},
     "output_type": "execute_result"
    }
   ],
   "source": [
    "ct.avg_asym_worker_agreement(example_w_id1)"
   ]
  },
  {
   "cell_type": "markdown",
   "metadata": {},
   "source": [
    "***NOTE:*** To get the full distribution of agreements, set the `full_series` parameter to `True`"
   ]
  },
  {
   "cell_type": "code",
   "execution_count": 16,
   "metadata": {},
   "outputs": [
    {
     "data": {
      "text/plain": [
       "0     1.000000\n",
       "1     0.633333\n",
       "2     0.861111\n",
       "3     0.617647\n",
       "4     0.733333\n",
       "5     0.285714\n",
       "6          NaN\n",
       "7     0.875000\n",
       "8     0.000000\n",
       "9     1.000000\n",
       "10         NaN\n",
       "11         NaN\n",
       "12         NaN\n",
       "dtype: float64"
      ]
     },
     "execution_count": 16,
     "metadata": {},
     "output_type": "execute_result"
    }
   ],
   "source": [
    "ct.avg_asym_worker_agreement(example_w_id1, full_series=True)"
   ]
  },
  {
   "cell_type": "markdown",
   "metadata": {},
   "source": [
    "### Worker-Item Similarity `CrowdTruth.worker_item_sim(w_df, item_ind)`\n",
    "This metric is the cosine similarity of a single worker's relation vector for an item with the aggregated responses of all other workers for that item.\n",
    "A high value for this metric means that the worker generally agrees with the crowd on this particular item. A `NaN` is returned if the worker did not label this item."
   ]
  },
  {
   "cell_type": "code",
   "execution_count": 17,
   "metadata": {},
   "outputs": [
    {
     "data": {
      "text/plain": [
       "0.7071067811865475"
      ]
     },
     "execution_count": 17,
     "metadata": {},
     "output_type": "execute_result"
    }
   ],
   "source": [
    "example_w_ind=w_df1[w_df1.sum(axis=1) > 0].index[0]\n",
    "ct.worker_item_sim(w_df1, example_w_ind)"
   ]
  },
  {
   "cell_type": "markdown",
   "metadata": {},
   "source": [
    "### Worker-Item Disagreement `CrowdTruth.worker_item_disagreement(w_df, item_ind)`\n",
    "***Worker-Item disagreement*** is inverse of the ***worker-item similarity*** metric normalized by the ***item-clarity*** score. This allows us to identify situations where a worker's annotation can be close the mean of the annotations provided by other workers, but if the variance of those annotations is generally high, then the score will still be low."
   ]
  },
  {
   "cell_type": "code",
   "execution_count": 18,
   "metadata": {},
   "outputs": [
    {
     "data": {
      "text/plain": [
       "-0.04044011451988083"
      ]
     },
     "execution_count": 18,
     "metadata": {},
     "output_type": "execute_result"
    }
   ],
   "source": [
    "ct.worker_item_disagreement(w_df, example_w_ind)"
   ]
  },
  {
   "cell_type": "markdown",
   "metadata": {},
   "source": [
    "### Average Worker-Item Disagreement `CrowdTruth.avg_worker_item_disagreement(w_df)`\n",
    "This is the average of the ***worker-item disagreement*** scores. A low score here means that the worker generally disagreed with their peers with regard to each of the items OR that the items generally had low clarity. To distinguish, it is helpful to also look at ***item clarity*** scores and the scores of ***average worker-item disagreement scores*** of all the other workers too.\n",
    "\n",
    "A negative score means that the worker has not only often diverged from their peers, but also that the items they labeled were not often clear either.\n",
    "\n",
    "#### CAUTION: This method is not very well vetted and I think it may be a confusing metric to use. Use at your own risk!"
   ]
  },
  {
   "cell_type": "code",
   "execution_count": 19,
   "metadata": {},
   "outputs": [
    {
     "data": {
      "text/plain": [
       "-0.029879396664175613"
      ]
     },
     "execution_count": 19,
     "metadata": {},
     "output_type": "execute_result"
    }
   ],
   "source": [
    "ct.avg_worker_item_disagreement(w_df)"
   ]
  },
  {
   "cell_type": "code",
   "execution_count": 20,
   "metadata": {},
   "outputs": [],
   "source": [
    "from tqdm.auto import tqdm\n",
    "import pandas as pd"
   ]
  },
  {
   "cell_type": "code",
   "execution_count": 21,
   "metadata": {},
   "outputs": [
    {
     "data": {
      "application/vnd.jupyter.widget-view+json": {
       "model_id": "cd9717cf7c004e229aaa027868d9a816",
       "version_major": 2,
       "version_minor": 0
      },
      "text/plain": [
       "HBox(children=(FloatProgress(value=0.0, max=13.0), HTML(value='')))"
      ]
     },
     "metadata": {},
     "output_type": "display_data"
    },
    {
     "name": "stdout",
     "output_type": "stream",
     "text": [
      "\n"
     ]
    }
   ],
   "source": [
    "results = []\n",
    "\n",
    "for w_id in tqdm(ct.get_all_worker_ids()):\n",
    "    w_df = ct.get_worker_df(w_id)\n",
    "    result = {'worker_id':w_id, 'score':ct.avg_worker_item_disagreement(w_df)}\n",
    "    results.append(result)\n",
    "results_df = pd.DataFrame(results)"
   ]
  },
  {
   "cell_type": "code",
   "execution_count": 22,
   "metadata": {},
   "outputs": [
    {
     "data": {
      "text/html": [
       "<div>\n",
       "<style scoped>\n",
       "    .dataframe tbody tr th:only-of-type {\n",
       "        vertical-align: middle;\n",
       "    }\n",
       "\n",
       "    .dataframe tbody tr th {\n",
       "        vertical-align: top;\n",
       "    }\n",
       "\n",
       "    .dataframe thead th {\n",
       "        text-align: right;\n",
       "    }\n",
       "</style>\n",
       "<table border=\"1\" class=\"dataframe\">\n",
       "  <thead>\n",
       "    <tr style=\"text-align: right;\">\n",
       "      <th></th>\n",
       "      <th>worker_id</th>\n",
       "      <th>score</th>\n",
       "    </tr>\n",
       "  </thead>\n",
       "  <tbody>\n",
       "    <tr>\n",
       "      <th>1</th>\n",
       "      <td>AEF601SQFOSBL</td>\n",
       "      <td>0.186597</td>\n",
       "    </tr>\n",
       "    <tr>\n",
       "      <th>3</th>\n",
       "      <td>A1IHI23KH87K5W</td>\n",
       "      <td>0.082038</td>\n",
       "    </tr>\n",
       "    <tr>\n",
       "      <th>11</th>\n",
       "      <td>A1V6CP5I0TOSAR</td>\n",
       "      <td>0.081365</td>\n",
       "    </tr>\n",
       "    <tr>\n",
       "      <th>10</th>\n",
       "      <td>A3IR7DFEKLLLO</td>\n",
       "      <td>0.074606</td>\n",
       "    </tr>\n",
       "    <tr>\n",
       "      <th>5</th>\n",
       "      <td>A171S8E9IFSHH2</td>\n",
       "      <td>0.059087</td>\n",
       "    </tr>\n",
       "    <tr>\n",
       "      <th>6</th>\n",
       "      <td>A3J2UG22S8BIW4</td>\n",
       "      <td>0.055952</td>\n",
       "    </tr>\n",
       "    <tr>\n",
       "      <th>4</th>\n",
       "      <td>A2YE7NBCK14VAQ</td>\n",
       "      <td>0.011953</td>\n",
       "    </tr>\n",
       "    <tr>\n",
       "      <th>9</th>\n",
       "      <td>A2JPOXYZM5AJZZ</td>\n",
       "      <td>0.000000</td>\n",
       "    </tr>\n",
       "    <tr>\n",
       "      <th>7</th>\n",
       "      <td>A1S88VQY8G8CNC</td>\n",
       "      <td>-0.013495</td>\n",
       "    </tr>\n",
       "    <tr>\n",
       "      <th>2</th>\n",
       "      <td>A2HM35CWB7IIFM</td>\n",
       "      <td>-0.017436</td>\n",
       "    </tr>\n",
       "    <tr>\n",
       "      <th>0</th>\n",
       "      <td>ATR6RB1RULOC0</td>\n",
       "      <td>-0.029879</td>\n",
       "    </tr>\n",
       "    <tr>\n",
       "      <th>8</th>\n",
       "      <td>A3B58QWMTBXVE0</td>\n",
       "      <td>-0.040440</td>\n",
       "    </tr>\n",
       "    <tr>\n",
       "      <th>12</th>\n",
       "      <td>A3760PCQD2MPIO</td>\n",
       "      <td>-0.040440</td>\n",
       "    </tr>\n",
       "  </tbody>\n",
       "</table>\n",
       "</div>"
      ],
      "text/plain": [
       "         worker_id     score\n",
       "1    AEF601SQFOSBL  0.186597\n",
       "3   A1IHI23KH87K5W  0.082038\n",
       "11  A1V6CP5I0TOSAR  0.081365\n",
       "10   A3IR7DFEKLLLO  0.074606\n",
       "5   A171S8E9IFSHH2  0.059087\n",
       "6   A3J2UG22S8BIW4  0.055952\n",
       "4   A2YE7NBCK14VAQ  0.011953\n",
       "9   A2JPOXYZM5AJZZ  0.000000\n",
       "7   A1S88VQY8G8CNC -0.013495\n",
       "2   A2HM35CWB7IIFM -0.017436\n",
       "0    ATR6RB1RULOC0 -0.029879\n",
       "8   A3B58QWMTBXVE0 -0.040440\n",
       "12  A3760PCQD2MPIO -0.040440"
      ]
     },
     "execution_count": 22,
     "metadata": {},
     "output_type": "execute_result"
    }
   ],
   "source": [
    "results_df.sort_values(by='score', ascending=False)"
   ]
  },
  {
   "cell_type": "code",
   "execution_count": null,
   "metadata": {},
   "outputs": [],
   "source": []
  }
 ],
 "metadata": {
  "kernelspec": {
   "display_name": "eda",
   "language": "python",
   "name": "eda"
  },
  "language_info": {
   "codemirror_mode": {
    "name": "ipython",
    "version": 3
   },
   "file_extension": ".py",
   "mimetype": "text/x-python",
   "name": "python",
   "nbconvert_exporter": "python",
   "pygments_lexer": "ipython3",
   "version": "3.7.7"
  }
 },
 "nbformat": 4,
 "nbformat_minor": 4
}
